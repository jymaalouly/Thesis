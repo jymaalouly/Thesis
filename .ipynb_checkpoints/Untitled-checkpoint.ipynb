{
 "cells": [
  {
   "cell_type": "code",
   "execution_count": 2,
   "metadata": {},
   "outputs": [],
   "source": [
    "import math\n",
    "import random\n",
    "import matplotlib.pyplot as plt\n",
    "import os\n",
    "import pandas as pd"
   ]
  },
  {
   "cell_type": "code",
   "execution_count": 5,
   "metadata": {},
   "outputs": [
    {
     "name": "stdout",
     "output_type": "stream",
     "text": [
      "                                     name shape color size\n",
      "0     /tf/Thesis/output/scatt0-50-0-0.png     0     0   50\n",
      "1     /tf/Thesis/output/scatt0-50-0-1.png     0     1   50\n",
      "2     /tf/Thesis/output/scatt0-50-0-2.png     0     2   50\n",
      "3     /tf/Thesis/output/scatt0-50-0-3.png     0     3   50\n",
      "4     /tf/Thesis/output/scatt0-50-0-4.png     0     4   50\n",
      "..                                    ...   ...   ...  ...\n",
      "625  /tf/Thesis/output/scatt0-750-5-2.png     5     2  750\n",
      "626  /tf/Thesis/output/scatt0-750-5-3.png     5     3  750\n",
      "627  /tf/Thesis/output/scatt0-750-5-4.png     5     4  750\n",
      "628  /tf/Thesis/output/scatt0-750-5-5.png     5     5  750\n",
      "629  /tf/Thesis/output/scatt0-750-5-6.png     5     6  750\n",
      "\n",
      "[630 rows x 4 columns]\n"
     ]
    }
   ],
   "source": [
    "\n",
    "mypath = os. getcwd()\n",
    "output = os. getcwd()+\"/output/scatt/\"\n",
    "\n",
    "# number of data points\n",
    "\n",
    "num_data_points = 10\n",
    "color = ['r','g','b','c','m','y','k']\n",
    "marker = ['o','x','s','.','*','D']\n",
    "graph_features = pd.DataFrame(columns=['name','shape','color','size' ])\n",
    "# draw the plot\n",
    "\n",
    "for a in range(0,10):\n",
    "    x = [random.gauss(0.5, 0.25)  for i in range(num_data_points)]\n",
    "    y = [random.gauss(0.5, 0.25) for i in range(num_data_points)]\n",
    "    for b in range(1,800):\n",
    "        if (b % 50) == 0 :\n",
    "            for c in range(len(marker)):\n",
    "                for d in range(len(color)):\n",
    "                    name = str(a) + '-' + str(b) + '-' + str(c) + '-' + str(d) + '.png'\n",
    "                    plt.figure(figsize=(6,6))\n",
    "                    plt.scatter(x, y, s = b, marker = marker[c], c = color[d])\n",
    "                    plt.axis([0.0, 1.0, 0.0, 1.0])\n",
    "                    plt.tight_layout()\n",
    "                    plt.savefig( output + name, dpi=21.4)\n",
    "                    #plt.show()\n",
    "                    plt.close('all')'\n",
    "                    graph_features = graph_features.append( {'name':name, 'shape':c, 'color' : d, 'size':b}, ignore_index=True)\n",
    "\n",
    "print(graph_features)\n",
    "graph_features.to_csv(output + ' output.csv',index = False, header=True)"
   ]
  },
  {
   "cell_type": "code",
   "execution_count": null,
   "metadata": {},
   "outputs": [],
   "source": []
  }
 ],
 "metadata": {
  "kernelspec": {
   "display_name": "Python 3",
   "language": "python",
   "name": "python3"
  },
  "language_info": {
   "codemirror_mode": {
    "name": "ipython",
    "version": 3
   },
   "file_extension": ".py",
   "mimetype": "text/x-python",
   "name": "python",
   "nbconvert_exporter": "python",
   "pygments_lexer": "ipython3",
   "version": "3.6.9"
  }
 },
 "nbformat": 4,
 "nbformat_minor": 4
}
